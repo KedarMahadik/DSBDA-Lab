{
 "cells": [
  {
   "cell_type": "code",
   "execution_count": null,
   "metadata": {},
   "outputs": [],
   "source": [
    "import pandas as pd\n",
    "df = pd.read_csv('Iris.csv')"
   ]
  },
  {
   "cell_type": "code",
   "execution_count": 2,
   "metadata": {},
   "outputs": [
    {
     "name": "stdout",
     "output_type": "stream",
     "text": [
      "First few rows of the dataset:\n",
      "   Id  SepalLengthCm  SepalWidthCm  PetalLengthCm  PetalWidthCm      Species\n",
      "0   1            5.1           3.5            1.4           0.2  Iris-setosa\n",
      "1   2            4.9           3.0            1.4           0.2  Iris-setosa\n",
      "2   3            4.7           3.2            1.3           0.2  Iris-setosa\n",
      "3   4            4.6           3.1            1.5           0.2  Iris-setosa\n",
      "4   5            5.0           3.6            1.4           0.2  Iris-setosa\n"
     ]
    }
   ],
   "source": [
    "print(\"First few rows of the dataset:\")\n",
    "print(df.head())"
   ]
  },
  {
   "cell_type": "code",
   "execution_count": 17,
   "metadata": {},
   "outputs": [],
   "source": [
    "def calculate_central_tendency_and_dispersion(df, species):\n",
    "    species_df = df[df['Species'] == species]\n",
    "    mean_val = species_df[['SepalLengthCm', 'SepalWidthCm', 'PetalLengthCm', 'PetalWidthCm']].mean()\n",
    "    median_val = species_df[['SepalLengthCm', 'SepalWidthCm', 'PetalLengthCm', 'PetalWidthCm']].median()\n",
    "    mode_val = species_df[['SepalLengthCm', 'SepalWidthCm', 'PetalLengthCm', 'PetalWidthCm']].mode().iloc[0]\n",
    "    std_dev = species_df[['SepalLengthCm', 'SepalWidthCm', 'PetalLengthCm', 'PetalWidthCm']].std()\n",
    "    min_val = species_df[['SepalLengthCm', 'SepalWidthCm', 'PetalLengthCm', 'PetalWidthCm']].min()\n",
    "    max_val = species_df[['SepalLengthCm', 'SepalWidthCm', 'PetalLengthCm', 'PetalWidthCm']].max()\n",
    "\n",
    "    stats_df = pd.DataFrame({\n",
    "    'Mean': mean_val,\n",
    "    'Median': median_val,\n",
    "    'Mode': mode_val,\n",
    "    'Std Deviation': std_dev,\n",
    "    'Minimum': min_val,\n",
    "    'Maximum': max_val\n",
    "    })\n",
    "    print(f\"\\nStatistics for {species}:\")\n",
    "    print(stats_df)\n",
    "\n"
   ]
  },
  {
   "cell_type": "code",
   "execution_count": 16,
   "metadata": {},
   "outputs": [
    {
     "name": "stdout",
     "output_type": "stream",
     "text": [
      "\n",
      "Statistics for Iris-setosa:\n",
      "                Mean  Median  Mode  Std Deviation  Minimum  Maximum\n",
      "SepalLengthCm  5.006     5.0   5.0       0.352490      4.3      5.8\n",
      "SepalWidthCm   3.418     3.4   3.4       0.381024      2.3      4.4\n",
      "PetalLengthCm  1.464     1.5   1.5       0.173511      1.0      1.9\n",
      "PetalWidthCm   0.244     0.2   0.2       0.107210      0.1      0.6\n",
      "\n",
      "Statistics for Iris-versicolor:\n",
      "                Mean  Median  Mode  Std Deviation  Minimum  Maximum\n",
      "SepalLengthCm  5.936    5.90   5.5       0.516171      4.9      7.0\n",
      "SepalWidthCm   2.770    2.80   3.0       0.313798      2.0      3.4\n",
      "PetalLengthCm  4.260    4.35   4.5       0.469911      3.0      5.1\n",
      "PetalWidthCm   1.326    1.30   1.3       0.197753      1.0      1.8\n",
      "\n",
      "Statistics for Iris-virginica:\n",
      "                Mean  Median  Mode  Std Deviation  Minimum  Maximum\n",
      "SepalLengthCm  6.588    6.50   6.3       0.635880      4.9      7.9\n",
      "SepalWidthCm   2.974    3.00   3.0       0.322497      2.2      3.8\n",
      "PetalLengthCm  5.552    5.55   5.1       0.551895      4.5      6.9\n",
      "PetalWidthCm   2.026    2.00   1.8       0.274650      1.4      2.5\n"
     ]
    }
   ],
   "source": [
    "species_list = df['Species'].unique()\n",
    "for species in species_list:\n",
    "    calculate_central_tendency_and_dispersion(df, species)"
   ]
  }
 ],
 "metadata": {
  "kernelspec": {
   "display_name": "Python 3",
   "language": "python",
   "name": "python3"
  },
  "language_info": {
   "codemirror_mode": {
    "name": "ipython",
    "version": 3
   },
   "file_extension": ".py",
   "mimetype": "text/x-python",
   "name": "python",
   "nbconvert_exporter": "python",
   "pygments_lexer": "ipython3",
   "version": "3.13.0"
  }
 },
 "nbformat": 4,
 "nbformat_minor": 2
}
